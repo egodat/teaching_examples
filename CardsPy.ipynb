{
 "cells": [
  {
   "cell_type": "markdown",
   "id": "c4444e35-9d87-4165-a522-a194d3a2d3f2",
   "metadata": {},
   "source": [
    "# Cards and Python"
   ]
  },
  {
   "cell_type": "markdown",
   "id": "92c0b37b-00e4-4f2a-b92c-1a14fdc5581b",
   "metadata": {},
   "source": [
    "## The basics"
   ]
  },
  {
   "cell_type": "code",
   "execution_count": 1,
   "id": "2d0f413a-87fe-42d8-997b-355441e24c2c",
   "metadata": {},
   "outputs": [],
   "source": [
    "import random"
   ]
  },
  {
   "cell_type": "markdown",
   "id": "225b6152-91b4-4741-b8e5-87d9a4d6041b",
   "metadata": {},
   "source": [
    "First we make a list of cards. This is for a single suit, we could do a full deck if we wanted"
   ]
  },
  {
   "cell_type": "code",
   "execution_count": 2,
   "id": "59b994c7-7e35-4a27-afac-de74f2c4d3fe",
   "metadata": {},
   "outputs": [],
   "source": [
    "cards = ['A','2','3','4','5','6','7','8','9','10','J','Q','K']"
   ]
  },
  {
   "cell_type": "markdown",
   "id": "b3826610-3efe-4248-9929-396dfc2b54e1",
   "metadata": {},
   "source": [
    "Then use `randint` to generate indicies for our list instead of the actual cards"
   ]
  },
  {
   "cell_type": "code",
   "execution_count": 3,
   "id": "829182d7-2830-4fc6-ad7e-9e8b10b303b7",
   "metadata": {},
   "outputs": [
    {
     "data": {
      "text/plain": [
       "'7'"
      ]
     },
     "execution_count": 3,
     "metadata": {},
     "output_type": "execute_result"
    }
   ],
   "source": [
    "cards[random.randint(0,len(cards)-1)] #This line effectively draws a card at random (with replacement)"
   ]
  },
  {
   "cell_type": "markdown",
   "id": "0a86720c-2265-4e5c-b0fb-4edb90c7c64a",
   "metadata": {},
   "source": [
    "we used `len(cards)` so it is more flexible if we add more cards.\n",
    "The -1 is to correct for mismatch between length and our indicies `len(0,...,12) = 13`"
   ]
  },
  {
   "cell_type": "markdown",
   "id": "60ab9fac-bb14-4142-aca6-4ae0bbb04ee9",
   "metadata": {},
   "source": [
    "## Testing the Randomness"
   ]
  },
  {
   "cell_type": "markdown",
   "id": "c8df6f80-4273-41ce-972c-5dda2cc427e7",
   "metadata": {},
   "source": [
    "Here we test the random card selector 10 times"
   ]
  },
  {
   "cell_type": "code",
   "execution_count": 4,
   "id": "46b32aed-4205-428d-a0a0-ece42a584ed0",
   "metadata": {},
   "outputs": [
    {
     "name": "stdout",
     "output_type": "stream",
     "text": [
      "8\n",
      "5\n",
      "6\n",
      "8\n",
      "K\n",
      "K\n",
      "2\n",
      "3\n",
      "9\n",
      "9\n"
     ]
    }
   ],
   "source": [
    "for el in range(0,10):\n",
    "    print(cards[random.randint(0,len(cards)-1)])"
   ]
  },
  {
   "cell_type": "markdown",
   "id": "07277f0e-d392-482d-bde0-7062dede7a82",
   "metadata": {},
   "source": [
    "Then since 10 seemed too few, we can do 1 million mock draws"
   ]
  },
  {
   "cell_type": "code",
   "execution_count": 5,
   "id": "4e089fd5-a2dd-49db-8cf4-d6b5dec7dcdd",
   "metadata": {},
   "outputs": [],
   "source": [
    "trials=[]\n",
    "for el in range(0,1000000):\n",
    "    trials.append(cards[random.randint(0,len(cards)-1)])"
   ]
  },
  {
   "cell_type": "code",
   "execution_count": 6,
   "id": "5ddd2508-89cd-453e-9c34-6ba035083ace",
   "metadata": {},
   "outputs": [],
   "source": [
    "import pandas as pd #Importing pandas for some analytics and graphing"
   ]
  },
  {
   "cell_type": "markdown",
   "id": "119076a9-4d71-47c9-993c-5f670a387f9a",
   "metadata": {},
   "source": [
    "We can convert the list of 1 million trials to a pandas series so that we can use values counts. This counts each time the value (card) appears in our series (list of trials)"
   ]
  },
  {
   "cell_type": "code",
   "execution_count": 7,
   "id": "3bff1f26-23ac-4cbf-a0e5-016d842cf4e1",
   "metadata": {},
   "outputs": [
    {
     "data": {
      "text/plain": [
       "7     77289\n",
       "6     77260\n",
       "A     77240\n",
       "4     77187\n",
       "J     76975\n",
       "9     76971\n",
       "5     76919\n",
       "3     76889\n",
       "8     76791\n",
       "2     76685\n",
       "10    76673\n",
       "Q     76590\n",
       "K     76531\n",
       "dtype: int64"
      ]
     },
     "execution_count": 7,
     "metadata": {},
     "output_type": "execute_result"
    }
   ],
   "source": [
    "vc=pd.Series(trials).value_counts()\n",
    "vc"
   ]
  },
  {
   "cell_type": "markdown",
   "id": "d2722ec9-64fe-4013-9574-8e54e97c95b7",
   "metadata": {},
   "source": [
    "We can then plot the values from our value counts. If our cards are in fact \"random\", we should get essentially equal bars"
   ]
  },
  {
   "cell_type": "code",
   "execution_count": 8,
   "id": "65946319-24cb-42c4-9159-b6a297935c76",
   "metadata": {},
   "outputs": [
    {
     "data": {
      "text/plain": [
       "<AxesSubplot:>"
      ]
     },
     "execution_count": 8,
     "metadata": {},
     "output_type": "execute_result"
    },
    {
     "data": {
      "image/png": "[encoded data removed]",
      "text/plain": [
       "<Figure size 432x288 with 1 Axes>"
      ]
     },
     "metadata": {
      "needs_background": "light"
     },
     "output_type": "display_data"
    }
   ],
   "source": [
    "vc.plot(kind='bar')"
   ]
  },
  {
   "cell_type": "markdown",
   "id": "7edc6342-0e33-4a7d-9f31-4f5ae362c288",
   "metadata": {},
   "source": [
    "Notice that if we were to run this code again, we'd get a different order and values due to the randomness."
   ]
  },
  {
   "cell_type": "markdown",
   "id": "5caffae9-8d01-4380-807f-3420f1fca988",
   "metadata": {},
   "source": [
    "## Math with cards"
   ]
  },
  {
   "cell_type": "markdown",
   "id": "2d95110b-bc04-4c32-aa4f-0c553e6ef5cc",
   "metadata": {},
   "source": [
    "If we want to do math with the cards, we can build a dictionary that maps the card name to the card value.\n",
    "This is safer and more flexible than using the card names themselves.\n",
    "E.g. An Ace might have different values in different games."
   ]
  },
  {
   "cell_type": "code",
   "execution_count": 9,
   "id": "92f07644-34b4-47f0-976b-362aee18454e",
   "metadata": {},
   "outputs": [],
   "source": [
    "cd = {'A':1,'2':2,'3':3,'4':4,'5':5,'6':6,'7':7,'8':8,'9':9,'10':10,'J':11,'Q':12,'K':13}"
   ]
  },
  {
   "cell_type": "code",
   "execution_count": 10,
   "id": "8b332b1d-42d4-4944-8cd0-e1edb390a16e",
   "metadata": {},
   "outputs": [
    {
     "data": {
      "text/plain": [
       "12"
      ]
     },
     "execution_count": 10,
     "metadata": {},
     "output_type": "execute_result"
    }
   ],
   "source": [
    "cd[cards[random.randint(0,len(cards)-1)]]"
   ]
  },
  {
   "cell_type": "markdown",
   "id": "5bf839b5-cca5-4893-92fe-6024774f578a",
   "metadata": {},
   "source": [
    "Using the dictionary, we can draw multiple cards and then do math with them."
   ]
  },
  {
   "cell_type": "code",
   "execution_count": 11,
   "id": "1f034f09-9584-4fa9-9dab-6e4e791dbefc",
   "metadata": {},
   "outputs": [
    {
     "name": "stdout",
     "output_type": "stream",
     "text": [
      "9 + 7 = 16\n"
     ]
    }
   ],
   "source": [
    "c1 = cards[random.randint(0,len(cards)-1)] # These are card names as strings\n",
    "c2 = cards[random.randint(0,len(cards)-1)]\n",
    "\n",
    "result = cd[c1]+cd[c2]  # We can then use the names as keys in our dictionary to get values\n",
    "\n",
    "print(\"{} + {} = {}\".format(c1,c2,result))"
   ]
  },
  {
   "cell_type": "markdown",
   "id": "ecf0c30c-13aa-4e2b-a1c5-1ce7ad55370f",
   "metadata": {},
   "source": [
    "## Building a Deck"
   ]
  },
  {
   "cell_type": "markdown",
   "id": "bf445c76-6c6d-4df7-927c-a36ab58c3e83",
   "metadata": {},
   "source": [
    "Here we can build out a deck much the same way we built the initial list of cards. This uses nested loops to do all suits and all cards"
   ]
  },
  {
   "cell_type": "code",
   "execution_count": 12,
   "id": "f51043df-cf4c-41fa-8227-4a32b0afd86a",
   "metadata": {},
   "outputs": [
    {
     "data": {
      "text/plain": [
       "['A_H',\n",
       " '2_H',\n",
       " '3_H',\n",
       " '4_H',\n",
       " '5_H',\n",
       " '6_H',\n",
       " '7_H',\n",
       " '8_H',\n",
       " '9_H',\n",
       " '10_H',\n",
       " 'J_H',\n",
       " 'Q_H',\n",
       " 'K_H',\n",
       " 'A_C',\n",
       " '2_C',\n",
       " '3_C',\n",
       " '4_C',\n",
       " '5_C',\n",
       " '6_C',\n",
       " '7_C',\n",
       " '8_C',\n",
       " '9_C',\n",
       " '10_C',\n",
       " 'J_C',\n",
       " 'Q_C',\n",
       " 'K_C',\n",
       " 'A_D',\n",
       " '2_D',\n",
       " '3_D',\n",
       " '4_D',\n",
       " '5_D',\n",
       " '6_D',\n",
       " '7_D',\n",
       " '8_D',\n",
       " '9_D',\n",
       " '10_D',\n",
       " 'J_D',\n",
       " 'Q_D',\n",
       " 'K_D',\n",
       " 'A_S',\n",
       " '2_S',\n",
       " '3_S',\n",
       " '4_S',\n",
       " '5_S',\n",
       " '6_S',\n",
       " '7_S',\n",
       " '8_S',\n",
       " '9_S',\n",
       " '10_S',\n",
       " 'J_S',\n",
       " 'Q_S',\n",
       " 'K_S']"
      ]
     },
     "execution_count": 12,
     "metadata": {},
     "output_type": "execute_result"
    }
   ],
   "source": [
    "suits = [\"_H\",\"_C\", \"_D\", \"_S\"] # I like the underscore here for readability and for a cool trick later\n",
    "deck = [] # Initial empty deck\n",
    "for el in suits: # Loop over suits\n",
    "    for card in cards: # Loop over cards\n",
    "        deck.append(card + el) #Add the cards into our deck\n",
    "deck"
   ]
  },
  {
   "cell_type": "markdown",
   "id": "c6b9bb26-4cf8-4b49-8f24-419825f6ece9",
   "metadata": {},
   "source": [
    "## Drawing through a deck"
   ]
  },
  {
   "cell_type": "markdown",
   "id": "66cd75fd-77d0-48ee-9fe7-bf8b11e7ec3d",
   "metadata": {},
   "source": [
    "Here we write a function to keep us from having to write the same code over and over when we want to draw a card"
   ]
  },
  {
   "cell_type": "code",
   "execution_count": 13,
   "id": "e0f16672-c895-4a15-818c-777a7f21e607",
   "metadata": {},
   "outputs": [],
   "source": [
    "def draw_card(cards): #Takes in a list of cards\n",
    "    return cards[random.randint(0,len(cards)-1)] # Returns a card at random from our list "
   ]
  },
  {
   "cell_type": "markdown",
   "id": "22a4e8fe-5e82-46a7-b12e-e523defe128f",
   "metadata": {},
   "source": [
    "We can test our function"
   ]
  },
  {
   "cell_type": "code",
   "execution_count": 14,
   "id": "fa6d81ab-f773-43b1-b287-568fbf59311d",
   "metadata": {},
   "outputs": [
    {
     "data": {
      "text/plain": [
       "'J_S'"
      ]
     },
     "execution_count": 14,
     "metadata": {},
     "output_type": "execute_result"
    }
   ],
   "source": [
    "draw_card(deck)"
   ]
  },
  {
   "cell_type": "markdown",
   "id": "77588534-bdb6-40fb-940f-e3e4cb74ce83",
   "metadata": {},
   "source": [
    "Here we loop over the deck and remove the cards we draw, if we did this correctly, every card will get drawn in random order.\n",
    "Keep in mind, this is effectively shuffling the deck after each draw.\n",
    "This shouldn't change anything as we have no knowledge of the order of the deck after we draw but is worth mentioning."
   ]
  },
  {
   "cell_type": "code",
   "execution_count": 15,
   "id": "7993c7c9-9f95-4993-931c-bef6623eb271",
   "metadata": {},
   "outputs": [
    {
     "name": "stdout",
     "output_type": "stream",
     "text": [
      "We draw J_H from 52 remaining cards\n",
      "We draw 5_C from 51 remaining cards\n",
      "We draw 8_S from 50 remaining cards\n",
      "We draw Q_C from 49 remaining cards\n",
      "We draw 7_C from 48 remaining cards\n",
      "We draw 4_S from 47 remaining cards\n",
      "We draw 8_D from 46 remaining cards\n",
      "We draw 6_C from 45 remaining cards\n",
      "We draw 4_D from 44 remaining cards\n",
      "We draw 9_S from 43 remaining cards\n",
      "We draw J_S from 42 remaining cards\n",
      "We draw 3_C from 41 remaining cards\n",
      "We draw 9_H from 40 remaining cards\n",
      "We draw 3_S from 39 remaining cards\n",
      "We draw 7_S from 38 remaining cards\n",
      "We draw 3_H from 37 remaining cards\n",
      "We draw 10_S from 36 remaining cards\n",
      "We draw 6_D from 35 remaining cards\n",
      "We draw K_D from 34 remaining cards\n",
      "We draw 5_H from 33 remaining cards\n",
      "We draw 4_C from 32 remaining cards\n",
      "We draw 5_S from 31 remaining cards\n",
      "We draw Q_D from 30 remaining cards\n",
      "We draw 9_D from 29 remaining cards\n",
      "We draw A_H from 28 remaining cards\n",
      "We draw J_D from 27 remaining cards\n",
      "We draw A_C from 26 remaining cards\n",
      "We draw Q_S from 25 remaining cards\n",
      "We draw 10_D from 24 remaining cards\n",
      "We draw 8_C from 23 remaining cards\n",
      "We draw 6_S from 22 remaining cards\n",
      "We draw 10_H from 21 remaining cards\n",
      "We draw 2_D from 20 remaining cards\n",
      "We draw K_H from 19 remaining cards\n",
      "We draw 2_S from 18 remaining cards\n",
      "We draw 2_C from 17 remaining cards\n",
      "We draw K_C from 16 remaining cards\n",
      "We draw 7_H from 15 remaining cards\n",
      "We draw 3_D from 14 remaining cards\n",
      "We draw 10_C from 13 remaining cards\n",
      "We draw A_D from 12 remaining cards\n",
      "We draw A_S from 11 remaining cards\n",
      "We draw 8_H from 10 remaining cards\n",
      "We draw 5_D from 9 remaining cards\n",
      "We draw 7_D from 8 remaining cards\n",
      "We draw 6_H from 7 remaining cards\n",
      "We draw 2_H from 6 remaining cards\n",
      "We draw J_C from 5 remaining cards\n",
      "We draw 9_C from 4 remaining cards\n",
      "We draw K_S from 3 remaining cards\n",
      "We draw Q_H from 2 remaining cards\n",
      "We draw 4_H from 1 remaining cards\n"
     ]
    }
   ],
   "source": [
    "test_deck = deck.copy()\n",
    "# We can force python to make a copy of our data\n",
    "#This is only needed if we don't want to change the original deck\n",
    "\n",
    "\n",
    "for el in range(0,len(deck)): #we want to use the length of the original deck here since our test_deck will get smaller as we draw cards. A while loop could be better here.\n",
    "    draw = draw_card(test_deck)\n",
    "    print(\"We draw {} from {} remaining cards\".format(draw,len(test_deck)))\n",
    "    test_deck.remove(draw)"
   ]
  },
  {
   "cell_type": "code",
   "execution_count": 16,
   "id": "a1146528-0736-47ca-9bbb-3a24fdbd10e5",
   "metadata": {},
   "outputs": [
    {
     "name": "stdout",
     "output_type": "stream",
     "text": [
      "We draw 3_S from 52 remaining cards\n",
      "We draw Q_S from 51 remaining cards\n",
      "We draw 8_C from 50 remaining cards\n",
      "We draw A_C from 49 remaining cards\n",
      "We draw 4_D from 48 remaining cards\n",
      "We draw 2_H from 47 remaining cards\n",
      "We draw 4_H from 46 remaining cards\n",
      "We draw 2_D from 45 remaining cards\n",
      "We draw 6_S from 44 remaining cards\n",
      "We draw A_H from 43 remaining cards\n",
      "We draw 2_S from 42 remaining cards\n",
      "We draw 8_H from 41 remaining cards\n",
      "We draw Q_C from 40 remaining cards\n",
      "We draw 9_D from 39 remaining cards\n",
      "We draw 5_D from 38 remaining cards\n",
      "We draw 10_C from 37 remaining cards\n",
      "We draw 7_D from 36 remaining cards\n",
      "We draw 6_H from 35 remaining cards\n",
      "We draw K_C from 34 remaining cards\n",
      "We draw Q_D from 33 remaining cards\n",
      "We draw 7_H from 32 remaining cards\n",
      "We draw 2_C from 31 remaining cards\n",
      "We draw A_S from 30 remaining cards\n",
      "We draw 8_D from 29 remaining cards\n",
      "We draw 5_C from 28 remaining cards\n",
      "We draw 5_H from 27 remaining cards\n",
      "We draw 10_H from 26 remaining cards\n",
      "We draw 9_H from 25 remaining cards\n",
      "We draw J_S from 24 remaining cards\n",
      "We draw J_H from 23 remaining cards\n",
      "We draw K_D from 22 remaining cards\n",
      "We draw 10_D from 21 remaining cards\n",
      "We draw J_D from 20 remaining cards\n",
      "We draw K_H from 19 remaining cards\n",
      "We draw 9_S from 18 remaining cards\n",
      "We draw 3_C from 17 remaining cards\n",
      "We draw 3_H from 16 remaining cards\n",
      "We draw 7_C from 15 remaining cards\n",
      "We draw A_D from 14 remaining cards\n",
      "We draw J_C from 13 remaining cards\n",
      "We draw 4_C from 12 remaining cards\n",
      "We draw 10_S from 11 remaining cards\n",
      "We draw 6_D from 10 remaining cards\n",
      "We draw 3_D from 9 remaining cards\n",
      "We draw 7_S from 8 remaining cards\n",
      "We draw 4_S from 7 remaining cards\n",
      "We draw 9_C from 6 remaining cards\n",
      "We draw 6_C from 5 remaining cards\n",
      "We draw 8_S from 4 remaining cards\n",
      "We draw Q_H from 3 remaining cards\n",
      "We draw 5_S from 2 remaining cards\n",
      "We draw K_S from 1 remaining cards\n"
     ]
    }
   ],
   "source": [
    "test_deck = deck.copy()\n",
    "\n",
    "while len(test_deck) > 0: # Same as above but with while instead\n",
    "    draw = draw_card(test_deck)\n",
    "    print(\"We draw {} from {} remaining cards\".format(draw,len(test_deck)))\n",
    "    test_deck.remove(draw)"
   ]
  },
  {
   "cell_type": "markdown",
   "id": "a6281ca5-a0e8-44a7-93e0-e564328c3e6a",
   "metadata": {},
   "source": [
    "## Doing Math with a Full Deck"
   ]
  },
  {
   "cell_type": "markdown",
   "id": "1e33bf4f-3516-4ebd-a543-e9fb740fdae8",
   "metadata": {},
   "source": [
    "The last thing we can do is do math with our entire deck. Since we used the underscore in our card names and the dictionary to assign our card values, we can combine those to not have to add anything to our dictionary to get value for any card in the deck."
   ]
  },
  {
   "cell_type": "code",
   "execution_count": 17,
   "id": "3da4c40f-1c54-4d61-8d23-510daad3f9c2",
   "metadata": {},
   "outputs": [
    {
     "name": "stdout",
     "output_type": "stream",
     "text": [
      "J_S + 6_S = 17\n"
     ]
    }
   ],
   "source": [
    "test_deck2 = deck.copy()\n",
    "\n",
    "draw1 = draw_card(test_deck2)\n",
    "draw2 = draw_card(test_deck2)\n",
    "\n",
    "total = cd[draw1.split('_')[0]] + cd[draw2.split('_')[0]]\n",
    "# Here we are splitting our card names ('A_S') into name ('A') and suit ('S').\n",
    "#Then we can take the 0th element, the name ('A'), as the key to our dictionary to get the value (1)\n",
    "\n",
    "print(\"{} + {} = {}\".format(draw1, draw2, total))"
   ]
  },
  {
   "cell_type": "markdown",
   "id": "bd217f58-0c94-4f01-a2c6-6e3186cfe1d1",
   "metadata": {},
   "source": [
    "If we want to draw a card and then draw from the deck again (without replacement), we just need to remove the card we draw from the deck."
   ]
  },
  {
   "cell_type": "code",
   "execution_count": 18,
   "id": "61541918-4769-4f48-904b-6d7d04f6d21e",
   "metadata": {},
   "outputs": [
    {
     "name": "stdout",
     "output_type": "stream",
     "text": [
      "J_D + 2_S = 13\n"
     ]
    }
   ],
   "source": [
    "test_deck2 = deck.copy()\n",
    "\n",
    "draw1 = draw_card(test_deck2)\n",
    "\n",
    "test_deck2.remove(draw1)\n",
    "\n",
    "draw2 = draw_card(test_deck2)\n",
    "\n",
    "result = cd[draw1.split('_')[0]] + cd[draw2.split('_')[0]]\n",
    "\n",
    "print(\"{} + {} = {}\".format(draw1, draw2, result))"
   ]
  },
  {
   "cell_type": "code",
   "execution_count": null,
   "id": "683f4dd6-49cc-43de-9d6f-5ea64fb308aa",
   "metadata": {},
   "outputs": [],
   "source": []
  }
 ],
 "metadata": {
  "jupytext": {
   "formats": "ipynb,md"
  },
  "kernelspec": {
   "display_name": "Python 3 (ipykernel)",
   "language": "python",
   "name": "python3"
  },
  "language_info": {
   "codemirror_mode": {
    "name": "ipython",
    "version": 3
   },
   "file_extension": ".py",
   "mimetype": "text/x-python",
   "name": "python",
   "nbconvert_exporter": "python",
   "pygments_lexer": "ipython3",
   "version": "3.9.12"
  }
 },
 "nbformat": 4,
 "nbformat_minor": 5
}
